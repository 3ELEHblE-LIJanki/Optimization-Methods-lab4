{
 "cells": [
  {
   "cell_type": "markdown",
   "metadata": {},
   "source": [
    "# Лабораторная работа №4\n",
    "## Методы стохастической оптимизации\n",
    "__Команда \"Зелёные шапки\"__ в составе: Заречнев Алексей, Петрасюк Алексей, Халили Алина, Галимова Ярослава (все - счастливые обитатели группы M3236)\n",
    "***"
   ]
  },
  {
   "cell_type": "markdown",
   "metadata": {},
   "source": [
    "В этой лабораторной работе от нас требовалось написать метод `иммитации отжига`. Этот метом получил своё название из-за схожести с физическим явлением, когда металл сначала сильно накаляют, а затем плавно снижают температуру, позволяя атомам занять оптимальные позиции. Таким образом сплав получается более прочным, так как теперь у кристаллической решётки минимум потенциальной энергии, и кристаллическая решётка становится более устойчивой. Во время охлаждения атом всё ещё может перейти в менее устойчивое положение, но с контроллируемым падением температуры эта вероятность уменьшается. Таким образом метод иммитации отжига находится на стыке разных наук: от физики и до теории вероятности. Этот метод очень хорош для зашумлённых или мультимоадльных функциях. Утверждается, что такой алгоритм позволяет нам с большой вероятностью избежать «застревания» в локальном минимуме. А почему это так, давайте разберёмся."
   ]
  },
  {
   "cell_type": "markdown",
   "metadata": {},
   "source": [
    "Благодаря этому методу была решена, например, задача Коммивояджера"
   ]
  },
  {
   "cell_type": "markdown",
   "metadata": {},
   "source": [
    "Как и в предыдущих лабораторных работах, у нас была написанная нами библиотека `Optimization-lib`, лежащая в основе всех наших тестирований. В ней лежат все методы и классы для прошлых лабораторных работ, а также вспомогательные методы."
   ]
  },
  {
   "cell_type": "markdown",
   "metadata": {},
   "source": [
    "### Задание 1. Метод иммитации отжига"
   ]
  },
  {
   "cell_type": "markdown",
   "metadata": {},
   "source": [
    "Данный метод очень поход на привычные нам методы отптимизации. Более того, он даже не требует никаких производных, то есть является методом первого порядка. Но в чём заключается его отличие?\n",
    "\n",
    "У нас есть параметр `T` - текущая температура (проще говоря, это функция от номера итерации). На каждой итерации мы пытаемся сделать шаг в сторону некоторой точки neighbour.\n",
    "\n",
    "+ Если ΔE = f(neighbor) - f(current) < 0, то всегда принимаем \"соседа\" (так как это даёт нам улучшение решения) \n",
    "+ Если ΔE > 0, то принимаем \"худшее\" решение с вероятностью: $P = e^{(-ΔE / T)}$"
   ]
  },
  {
   "cell_type": "markdown",
   "metadata": {},
   "source": [
    "Температура же может меняться по какому-нибудь из законов. В нашем случае это будет линейная функция с гиперпараметром - тангенсом угла наклона, то есть скоростью убывания функции. Можно взять и другие (нелинейные) варианты."
   ]
  },
  {
   "cell_type": "code",
   "execution_count": 1,
   "metadata": {},
   "outputs": [
    {
     "name": "stdout",
     "output_type": "stream",
     "text": [
      "\n",
      "        EXP GD\n",
      "            found result:         0.000053\n",
      "            found result in:      ['0.00729093304433353108', '0.00000000000000000001']\n",
      "            steps count:          392\n",
      "            function calls count: 1569\n",
      "            gradient calls count: 392\n",
      "            hessian calls count:  0\n",
      "          \n"
     ]
    },
    {
     "name": "stderr",
     "output_type": "stream",
     "text": [
      "c:\\Users\\yaros\\OneDrive\\Desktop\\ITMO\\Optimization-Methods\\Optimization-Methods-lab4\\Optimization-lib\\annealing.py:52: RuntimeWarning: overflow encountered in scalar divide\n",
      "  if delta < 0 or np.random.rand() < math.exp(-delta/T):\n",
      "c:\\Users\\yaros\\OneDrive\\Desktop\\ITMO\\Optimization-Methods\\Optimization-Methods-lab4\\Optimization-lib\\annealing.py:52: RuntimeWarning: divide by zero encountered in scalar divide\n",
      "  if delta < 0 or np.random.rand() < math.exp(-delta/T):\n"
     ]
    },
    {
     "name": "stdout",
     "output_type": "stream",
     "text": [
      "[-0.019486948032190383, 0.0019029834722536169]\n"
     ]
    },
    {
     "ename": "TypeError",
     "evalue": "unsupported format string passed to numpy.ndarray.__format__",
     "output_type": "error",
     "traceback": [
      "\u001b[31m---------------------------------------------------------------------------\u001b[39m",
      "\u001b[31mTypeError\u001b[39m                                 Traceback (most recent call last)",
      "\u001b[36mCell\u001b[39m\u001b[36m \u001b[39m\u001b[32mIn[1]\u001b[39m\u001b[32m, line 24\u001b[39m\n\u001b[32m     22\u001b[39m test_painter_2 = GraphicsPlotter(an)\n\u001b[32m     23\u001b[39m res_2 = an.find_min(\u001b[32m10000\u001b[39m)\n\u001b[32m---> \u001b[39m\u001b[32m24\u001b[39m \u001b[43mpretty_print_annealing\u001b[49m\u001b[43m(\u001b[49m\u001b[43man\u001b[49m\u001b[43m,\u001b[49m\u001b[43m \u001b[49m\u001b[33;43m\"\u001b[39;49m\u001b[33;43mANNEALING\u001b[39;49m\u001b[33;43m\"\u001b[39;49m\u001b[43m,\u001b[49m\u001b[43m \u001b[49m\u001b[43mres_2\u001b[49m\u001b[43m)\u001b[49m\n",
      "\u001b[36mFile \u001b[39m\u001b[32mc:\\Users\\yaros\\OneDrive\\Desktop\\ITMO\\Optimization-Methods\\Optimization-Methods-lab4\\Optimization-lib\\output.py:56\u001b[39m, in \u001b[36mpretty_print_annealing\u001b[39m\u001b[34m(descent, name, found_result)\u001b[39m\n\u001b[32m     46\u001b[39m found_x = descent.x.tolist()\n\u001b[32m     47\u001b[39m \u001b[38;5;28mprint\u001b[39m(found_x)\n\u001b[32m     48\u001b[39m \u001b[38;5;28mprint\u001b[39m(\u001b[33;43m\"\"\"\u001b[39;49m\n\u001b[32m     49\u001b[39m \u001b[33;43m    \u001b[39;49m\u001b[38;5;132;43;01m{:s}\u001b[39;49;00m\n\u001b[32m     50\u001b[39m \u001b[33;43m        found result:         \u001b[39;49m\u001b[38;5;132;43;01m{:f}\u001b[39;49;00m\n\u001b[32m     51\u001b[39m \u001b[33;43m        found result in:      \u001b[39;49m\u001b[38;5;132;43;01m{:s}\u001b[39;49;00m\n\u001b[32m     52\u001b[39m \u001b[33;43m        alpha:          \u001b[39;49m\u001b[38;5;132;43;01m{:d}\u001b[39;49;00m\n\u001b[32m     53\u001b[39m \u001b[33;43m        T0: \u001b[39;49m\u001b[38;5;132;43;01m{:d}\u001b[39;49;00m\n\u001b[32m     54\u001b[39m \u001b[33;43m        steps count:          \u001b[39;49m\u001b[38;5;132;43;01m{:d}\u001b[39;49;00m\n\u001b[32m     55\u001b[39m \u001b[33;43m        function calls count: \u001b[39;49m\u001b[38;5;132;43;01m{:d}\u001b[39;49;00m\n\u001b[32m---> \u001b[39m\u001b[32m56\u001b[39m \u001b[33;43m      \u001b[39;49m\u001b[33;43m\"\"\"\u001b[39;49m\u001b[43m.\u001b[49m\u001b[43mformat\u001b[49m\u001b[43m(\u001b[49m\u001b[43mname\u001b[49m\u001b[43m,\u001b[49m\n\u001b[32m     57\u001b[39m \u001b[43m                 \u001b[49m\u001b[43mfound_result\u001b[49m\u001b[43m,\u001b[49m\n\u001b[32m     58\u001b[39m \u001b[43m                 \u001b[49m\u001b[38;5;28;43mstr\u001b[39;49m\u001b[43m(\u001b[49m\u001b[43m[\u001b[49m\u001b[43m \u001b[49m\u001b[33;43m\"\u001b[39;49m\u001b[38;5;132;43;01m{:.20f}\u001b[39;49;00m\u001b[33;43m\"\u001b[39;49m\u001b[43m.\u001b[49m\u001b[43mformat\u001b[49m\u001b[43m(\u001b[49m\u001b[43mx_i\u001b[49m\u001b[43m)\u001b[49m\u001b[43m \u001b[49m\u001b[38;5;28;43;01mfor\u001b[39;49;00m\u001b[43m \u001b[49m\u001b[43mx_i\u001b[49m\u001b[43m \u001b[49m\u001b[38;5;129;43;01min\u001b[39;49;00m\u001b[43m \u001b[49m\u001b[43mfound_x\u001b[49m\u001b[43m]\u001b[49m\u001b[43m)\u001b[49m\u001b[43m,\u001b[49m\n\u001b[32m     59\u001b[39m \u001b[43m                 \u001b[49m\u001b[43mdescent\u001b[49m\u001b[43m.\u001b[49m\u001b[43malpha\u001b[49m\u001b[43m,\u001b[49m\n\u001b[32m     60\u001b[39m \u001b[43m                 \u001b[49m\u001b[43mdescent\u001b[49m\u001b[43m.\u001b[49m\u001b[43mT0\u001b[49m\u001b[43m,\u001b[49m\n\u001b[32m     61\u001b[39m \u001b[43m                 \u001b[49m\u001b[38;5;28;43mlen\u001b[39;49m\u001b[43m(\u001b[49m\u001b[43mdescent\u001b[49m\u001b[43m.\u001b[49m\u001b[43mget_path\u001b[49m\u001b[43m(\u001b[49m\u001b[43m)\u001b[49m\u001b[43m)\u001b[49m\u001b[43m,\u001b[49m\n\u001b[32m     62\u001b[39m \u001b[43m                 \u001b[49m\u001b[43mdescent\u001b[49m\u001b[43m.\u001b[49m\u001b[43mget_f\u001b[49m\u001b[43m(\u001b[49m\u001b[43m)\u001b[49m\u001b[43m.\u001b[49m\u001b[43mget_count\u001b[49m\u001b[43m(\u001b[49m\u001b[43m)\u001b[49m\u001b[43m)\u001b[49m\n\u001b[32m     63\u001b[39m       )\n",
      "\u001b[31mTypeError\u001b[39m: unsupported format string passed to numpy.ndarray.__format__"
     ]
    }
   ],
   "source": [
    "import sys\n",
    "import numpy as np\n",
    "sys.path.insert(0, \"./Optimization-lib\")\n",
    "from annealing import AnnealingDecent\n",
    "from gradient_descent import GradientDecent\n",
    "from graphics_plotter import GraphicsPlotter\n",
    "from lrs import exponential_decay, gradient\n",
    "from output import pretty_print, pretty_print_annealing\n",
    "from function_wrapper import FunctionWrapper\n",
    "from simulated_annealing import sa\n",
    "\n",
    "func = FunctionWrapper(lambda x: x[0] ** 2 + 100 * x[1]**2)\n",
    "\n",
    "gradient.clear()\n",
    "func.clear()\n",
    "gd = GradientDecent(exponential_decay(0.01, 0.001), func, [[-6.0, 6.0], [-6.0, 6.0]], 0.0001, gradient)\n",
    "test_painter_1 = GraphicsPlotter(gd)\n",
    "res_1 = gd.find_min([5, 3], 100000)\n",
    "pretty_print(gd, \"EXP GD\", res_1, gradient)\n",
    "\n",
    "an = AnnealingDecent(func, np.array([[-6.0, 6.0], [-6.0, 6.0]]), alpha=0.1, T0=1000)\n",
    "test_painter_2 = GraphicsPlotter(an)\n",
    "res_2 = an.find_min(10000)\n",
    "pretty_print_annealing(an, \"ANNEALING\", res_2)"
   ]
  },
  {
   "cell_type": "code",
   "execution_count": null,
   "metadata": {},
   "outputs": [],
   "source": []
  }
 ],
 "metadata": {
  "kernelspec": {
   "display_name": "Python 3",
   "language": "python",
   "name": "python3"
  },
  "language_info": {
   "codemirror_mode": {
    "name": "ipython",
    "version": 3
   },
   "file_extension": ".py",
   "mimetype": "text/x-python",
   "name": "python",
   "nbconvert_exporter": "python",
   "pygments_lexer": "ipython3",
   "version": "3.13.0"
  }
 },
 "nbformat": 4,
 "nbformat_minor": 2
}
